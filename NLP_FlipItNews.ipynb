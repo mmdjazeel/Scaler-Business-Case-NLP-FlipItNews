{
  "nbformat": 4,
  "nbformat_minor": 0,
  "metadata": {
    "colab": {
      "provenance": []
    },
    "kernelspec": {
      "name": "python3",
      "display_name": "Python 3"
    },
    "language_info": {
      "name": "python"
    }
  },
  "cells": [
    {
      "cell_type": "code",
      "execution_count": 1,
      "metadata": {
        "id": "l-LSk8b8Trw-"
      },
      "outputs": [],
      "source": [
        "import pandas as pd\n",
        "import numpy as np\n",
        "import matplotlib.pyplot as plt\n",
        "import seaborn as sns\n",
        "import nltk\n",
        "from nltk.corpus import stopwords\n",
        "from nltk.stem import WordNetLemmatizer\n",
        "import re\n",
        "from sklearn.preprocessing import LabelEncoder\n",
        "from sklearn.feature_extraction.text import CountVectorizer, TfidfVectorizer\n",
        "from sklearn.model_selection import train_test_split\n",
        "from sklearn.naive_bayes import MultinomialNB\n",
        "from sklearn.metrics import accuracy_score, classification_report\n",
        "from sklearn.tree import DecisionTreeClassifier\n",
        "from sklearn.ensemble import RandomForestClassifier\n",
        "from sklearn.neighbors import KNeighborsClassifier\n",
        "np.random.seed(42)"
      ]
    },
    {
      "cell_type": "code",
      "source": [
        "%%capture\n",
        "nltk.download('punkt') # Download for tokenization\n",
        "nltk.download('stopwords') # Download stopwords\n",
        "nltk.download('wordnet') # Download for lemmatization\n",
        "\n",
        "sns.set_style('white')\n",
        "plt.rcParams['figure.figsize'] = (9, 9)\n",
        "plt.rcParams['date.autoformatter.day'] = '%d-%b'"
      ],
      "metadata": {
        "colab": {
          "base_uri": "https://localhost:8080/"
        },
        "id": "IW6Sma0_T0nU",
        "outputId": "35564ebf-6726-434c-bc47-1752dbb0f345"
      },
      "execution_count": 2,
      "outputs": [
        {
          "output_type": "stream",
          "name": "stderr",
          "text": [
            "[nltk_data] Downloading package punkt to /root/nltk_data...\n",
            "[nltk_data]   Unzipping tokenizers/punkt.zip.\n",
            "[nltk_data] Downloading package stopwords to /root/nltk_data...\n",
            "[nltk_data]   Unzipping corpora/stopwords.zip.\n",
            "[nltk_data] Downloading package wordnet to /root/nltk_data...\n"
          ]
        }
      ]
    },
    {
      "cell_type": "code",
      "source": [
        "!gdown 1I3-pQFzbSufhpMrUKAROBLGULXcWiB9u"
      ],
      "metadata": {
        "colab": {
          "base_uri": "https://localhost:8080/"
        },
        "id": "4Bdr8_rlT4yf",
        "outputId": "5cdb6d1b-67a3-4487-e5cd-0e46a119f784"
      },
      "execution_count": 3,
      "outputs": [
        {
          "output_type": "stream",
          "name": "stdout",
          "text": [
            "Downloading...\n",
            "From: https://drive.google.com/uc?id=1I3-pQFzbSufhpMrUKAROBLGULXcWiB9u\n",
            "To: /content/flipitnews-data.csv\n",
            "100% 5.06M/5.06M [00:00<00:00, 20.1MB/s]\n"
          ]
        }
      ]
    },
    {
      "cell_type": "code",
      "source": [
        "!ls"
      ],
      "metadata": {
        "colab": {
          "base_uri": "https://localhost:8080/"
        },
        "id": "Uj0THnh2T6zI",
        "outputId": "2b130686-b376-4be7-b1c6-71dada1899ea"
      },
      "execution_count": 4,
      "outputs": [
        {
          "output_type": "stream",
          "name": "stdout",
          "text": [
            "flipitnews-data.csv  sample_data\n"
          ]
        }
      ]
    },
    {
      "cell_type": "code",
      "source": [
        "df= pd.read_csv('flipitnews-data.csv')"
      ],
      "metadata": {
        "id": "KHUfKHjUT8k0"
      },
      "execution_count": 5,
      "outputs": []
    },
    {
      "cell_type": "code",
      "source": [
        "df= df.drop_duplicates()\n",
        "df.groupby('Category').size().plot(kind='bar')"
      ],
      "metadata": {
        "colab": {
          "base_uri": "https://localhost:8080/",
          "height": 876
        },
        "id": "36csh-ymUAvE",
        "outputId": "525354e4-cf62-4aa3-e35c-51cb1a48cdbd"
      },
      "execution_count": 6,
      "outputs": [
        {
          "output_type": "execute_result",
          "data": {
            "text/plain": [
              "<Axes: xlabel='Category'>"
            ]
          },
          "metadata": {},
          "execution_count": 6
        },
        {
          "output_type": "display_data",
          "data": {
            "text/plain": [
              "<Figure size 900x900 with 1 Axes>"
            ],
            "image/png": "[encoded data removed]"
          },
          "metadata": {}
        }
      ]
    },
    {
      "cell_type": "code",
      "source": [
        "def preprocess_text(text):\n",
        "  # Remove non-letters\n",
        "  text = re.sub(r'[^a-zA-Z\\s]',\n",
        "  ''\n",
        "  , text)\n",
        "  # Tokenize\n",
        "  tokens = nltk.word_tokenize(text.lower()) # Lowercase for consistency\n",
        "  # Remove stopwords\n",
        "  stop_words = set(stopwords.words('english'))\n",
        "  tokens = [word for word in tokens if word not in stop_words]\n",
        "  # Lemmatize\n",
        "  lemmatizer = WordNetLemmatizer()\n",
        "  tokens = [lemmatizer.lemmatize(word) for word in tokens]\n",
        "  # Join back into a string\n",
        "  return ' '.join(tokens)"
      ],
      "metadata": {
        "id": "CE2_AJKkUDaL"
      },
      "execution_count": 9,
      "outputs": []
    },
    {
      "cell_type": "code",
      "source": [
        "df['Processed_Articles'] = df['Article'].apply(preprocess_text)"
      ],
      "metadata": {
        "id": "hb7U4RQiUEVj"
      },
      "execution_count": 10,
      "outputs": []
    },
    {
      "cell_type": "code",
      "source": [
        "le = LabelEncoder()\n",
        "df['encoded_target'] = le.fit_transform(df['Category'])"
      ],
      "metadata": {
        "id": "v38D1WwuUJRZ"
      },
      "execution_count": 13,
      "outputs": []
    },
    {
      "cell_type": "code",
      "source": [
        "def vectorize_articles(df, column_name, method='tfidf'):\n",
        "  if method == 'tfidf':\n",
        "    vectorizer = TfidfVectorizer()\n",
        "  elif method == 'bow':\n",
        "    vectorizer = CountVectorizer()\n",
        "  else:\n",
        "    raise ValueError(\"Invalid method. Choose between 'tfidf' or 'bow'.\")\n",
        "  return vectorizer.fit_transform(df[column_name])"
      ],
      "metadata": {
        "id": "tbBd5EulUK_N"
      },
      "execution_count": 14,
      "outputs": []
    },
    {
      "cell_type": "code",
      "source": [
        "bow_articles = vectorize_articles(df, 'Processed_Articles', method= 'bow')\n",
        "tfidf_articles = vectorize_articles(df, 'Processed_Articles', method= 'tfidf')\n",
        "X_train_bow, X_test_bow, y_train_bow, y_test_bow = train_test_split(\n",
        "    bow_articles,\n",
        "    df['encoded_target'],\n",
        "    test_size=0.2,\n",
        "    random_state=42,\n",
        "    stratify= df['encoded_target'] # Stratify based on target variable\n",
        ")"
      ],
      "metadata": {
        "id": "SOg9LsPPUPCx"
      },
      "execution_count": 15,
      "outputs": []
    },
    {
      "cell_type": "code",
      "source": [
        "# Fit the Naive Bayes model\n",
        "model = MultinomialNB()\n",
        "model.fit(X_train_bow, y_train_bow)\n",
        "# Make predictions on the test set\n",
        "y_pred_bow = model.predict(X_test_bow)\n",
        "# Evaluate the model\n",
        "accuracy = accuracy_score(y_test_bow, y_pred_bow)\n",
        "print(\"Accuracy:\", accuracy)\n",
        "print(\"Classification Report:\")\n",
        "print(classification_report(y_test_bow, y_pred_bow))"
      ],
      "metadata": {
        "colab": {
          "base_uri": "https://localhost:8080/"
        },
        "id": "E6feAWVGUWEm",
        "outputId": "00e2260f-c743-4b42-869c-c232cb471498"
      },
      "execution_count": 16,
      "outputs": [
        {
          "output_type": "stream",
          "name": "stdout",
          "text": [
            "Accuracy: 0.9741784037558685\n",
            "Classification Report:\n",
            "              precision    recall  f1-score   support\n",
            "\n",
            "           0       0.96      0.96      0.96       101\n",
            "           1       0.99      0.96      0.97        74\n",
            "           2       0.99      0.98      0.98        81\n",
            "           3       1.00      1.00      1.00       101\n",
            "           4       0.93      0.97      0.95        69\n",
            "\n",
            "    accuracy                           0.97       426\n",
            "   macro avg       0.97      0.97      0.97       426\n",
            "weighted avg       0.97      0.97      0.97       426\n",
            "\n"
          ]
        }
      ]
    },
    {
      "cell_type": "code",
      "source": [
        "X_train_tfidf, X_test_tfidf, y_train_tfidf, y_test_tfidf = train_test_split(\n",
        "tfidf_articles,\n",
        "df['encoded_target'],\n",
        "test_size=0.2,\n",
        "random_state=42,\n",
        "stratify= df['encoded_target'] # Stratify based on target variable\n",
        ")\n",
        "# Fit the Naive Bayes model for TF-IDF vectorised data\n",
        "model = MultinomialNB()\n",
        "model.fit(X_train_tfidf, y_train_tfidf)\n",
        "# Make predictions on the test set\n",
        "y_pred_tfidf = model.predict(X_test_tfidf)\n",
        "# Evaluate the model\n",
        "accuracy = accuracy_score(y_test_tfidf, y_pred_tfidf)\n",
        "print(\"Accuracy:\", accuracy)\n",
        "print(\"Classification Report:\")\n",
        "print(classification_report(y_test_tfidf, y_pred_tfidf))"
      ],
      "metadata": {
        "colab": {
          "base_uri": "https://localhost:8080/"
        },
        "id": "1k-2IGJiUZV_",
        "outputId": "1bbeb91d-8319-4fdb-8a95-e9928b64917a"
      },
      "execution_count": 17,
      "outputs": [
        {
          "output_type": "stream",
          "name": "stdout",
          "text": [
            "Accuracy: 0.9530516431924883\n",
            "Classification Report:\n",
            "              precision    recall  f1-score   support\n",
            "\n",
            "           0       0.89      1.00      0.94       101\n",
            "           1       1.00      0.89      0.94        74\n",
            "           2       0.94      0.98      0.96        81\n",
            "           3       0.97      1.00      0.99       101\n",
            "           4       1.00      0.86      0.92        69\n",
            "\n",
            "    accuracy                           0.95       426\n",
            "   macro avg       0.96      0.94      0.95       426\n",
            "weighted avg       0.96      0.95      0.95       426\n",
            "\n"
          ]
        }
      ]
    },
    {
      "cell_type": "code",
      "source": [
        "def train_evaluate_model(model, X_train, X_test, y_train, y_test):\n",
        "  # Fit the model\n",
        "  model.fit(X_train, y_train)\n",
        "  # Make predictions on the test set\n",
        "  y_pred = model.predict(X_test)\n",
        "  # Evaluate the model\n",
        "  accuracy = accuracy_score(y_test, y_pred)\n",
        "  classification_report_ = classification_report(y_test, y_pred)\n",
        "  # Return evaluation metrics\n",
        "  return {'accuracy': accuracy, 'classification_report': classification_report_}"
      ],
      "metadata": {
        "id": "Gj6sVwdxUbhB"
      },
      "execution_count": 20,
      "outputs": []
    },
    {
      "cell_type": "code",
      "source": [
        "decision_tree_bow = train_evaluate_model(DecisionTreeClassifier(), X_train_bow, X_test_bow, y_train_bow, y_test_bow)\n",
        "accuracy_bow = decision_tree_bow['accuracy']\n",
        "classification_report_bow = decision_tree_bow['classification_report']\n",
        "print(accuracy_bow)\n",
        "print(classification_report_bow)"
      ],
      "metadata": {
        "colab": {
          "base_uri": "https://localhost:8080/"
        },
        "id": "axV2OUKMUd_X",
        "outputId": "a49ff181-0f60-44f7-f326-81dfe321fa1f"
      },
      "execution_count": 21,
      "outputs": [
        {
          "output_type": "stream",
          "name": "stdout",
          "text": [
            "0.8380281690140845\n",
            "              precision    recall  f1-score   support\n",
            "\n",
            "           0       0.79      0.92      0.85       101\n",
            "           1       0.80      0.77      0.79        74\n",
            "           2       0.88      0.81      0.85        81\n",
            "           3       0.90      0.92      0.91       101\n",
            "           4       0.81      0.70      0.75        69\n",
            "\n",
            "    accuracy                           0.84       426\n",
            "   macro avg       0.84      0.82      0.83       426\n",
            "weighted avg       0.84      0.84      0.84       426\n",
            "\n"
          ]
        }
      ]
    },
    {
      "cell_type": "code",
      "source": [
        "decision_tree_tfidf = train_evaluate_model(DecisionTreeClassifier(), X_train_tfidf, X_test_tfidf, y_train_tfidf, y_test_tfidf)\n",
        "accuracy_tfidf = decision_tree_tfidf['accuracy']\n",
        "classification_report_tfidf = decision_tree_tfidf['classification_report']\n",
        "print(accuracy_tfidf)\n",
        "print(classification_report_tfidf)"
      ],
      "metadata": {
        "colab": {
          "base_uri": "https://localhost:8080/"
        },
        "id": "s_ZcTD8wUgrg",
        "outputId": "928bf4d1-3e95-4f30-f08c-9dff3e39e37b"
      },
      "execution_count": 25,
      "outputs": [
        {
          "output_type": "stream",
          "name": "stdout",
          "text": [
            "0.8333333333333334\n",
            "              precision    recall  f1-score   support\n",
            "\n",
            "           0       0.82      0.88      0.85       101\n",
            "           1       0.75      0.84      0.79        74\n",
            "           2       0.94      0.78      0.85        81\n",
            "           3       0.88      0.90      0.89       101\n",
            "           4       0.79      0.72      0.76        69\n",
            "\n",
            "    accuracy                           0.83       426\n",
            "   macro avg       0.83      0.82      0.83       426\n",
            "weighted avg       0.84      0.83      0.83       426\n",
            "\n"
          ]
        }
      ]
    },
    {
      "cell_type": "code",
      "source": [
        "random_forest_bow = train_evaluate_model(RandomForestClassifier(), X_train_bow, X_test_bow, y_train_bow, y_test_bow)\n",
        "accuracy_bow = random_forest_bow['accuracy']\n",
        "classification_report_bow = random_forest_bow['classification_report']"
      ],
      "metadata": {
        "id": "hKl4iFmQUinM"
      },
      "execution_count": 26,
      "outputs": []
    },
    {
      "cell_type": "code",
      "source": [
        "print(accuracy_bow)\n",
        "print(classification_report_bow)"
      ],
      "metadata": {
        "colab": {
          "base_uri": "https://localhost:8080/"
        },
        "id": "x4b1Ax0IUkCF",
        "outputId": "986a4a97-6492-4285-f6c0-54922a48cb6d"
      },
      "execution_count": 27,
      "outputs": [
        {
          "output_type": "stream",
          "name": "stdout",
          "text": [
            "0.960093896713615\n",
            "              precision    recall  f1-score   support\n",
            "\n",
            "           0       0.88      0.99      0.93       101\n",
            "           1       1.00      0.93      0.97        74\n",
            "           2       1.00      0.95      0.97        81\n",
            "           3       0.98      1.00      0.99       101\n",
            "           4       0.98      0.90      0.94        69\n",
            "\n",
            "    accuracy                           0.96       426\n",
            "   macro avg       0.97      0.95      0.96       426\n",
            "weighted avg       0.96      0.96      0.96       426\n",
            "\n"
          ]
        }
      ]
    },
    {
      "cell_type": "code",
      "source": [
        "random_forest_tfidf = train_evaluate_model(RandomForestClassifier(), X_train_tfidf, X_test_tfidf, y_train_tfidf, y_test_tfidf)\n",
        "accuracy_tfidf = random_forest_tfidf['accuracy']\n",
        "classification_report_tfidf = random_forest_tfidf['classification_report']\n",
        "print(accuracy_tfidf)\n",
        "print(classification_report_tfidf)"
      ],
      "metadata": {
        "colab": {
          "base_uri": "https://localhost:8080/"
        },
        "id": "bCbg_nCMUm5Z",
        "outputId": "3c9ebfe3-3b0f-4e15-c145-aa9cd4cc5d95"
      },
      "execution_count": 30,
      "outputs": [
        {
          "output_type": "stream",
          "name": "stdout",
          "text": [
            "0.9553990610328639\n",
            "              precision    recall  f1-score   support\n",
            "\n",
            "           0       0.89      0.97      0.93       101\n",
            "           1       0.96      0.96      0.96        74\n",
            "           2       1.00      0.91      0.95        81\n",
            "           3       0.98      1.00      0.99       101\n",
            "           4       0.97      0.91      0.94        69\n",
            "\n",
            "    accuracy                           0.96       426\n",
            "   macro avg       0.96      0.95      0.95       426\n",
            "weighted avg       0.96      0.96      0.96       426\n",
            "\n"
          ]
        }
      ]
    },
    {
      "cell_type": "code",
      "source": [
        "knn_bow = train_evaluate_model(KNeighborsClassifier(), X_train_bow, X_test_bow, y_train_bow, y_test_bow)\n",
        "accuracy_bow = knn_bow['accuracy']\n",
        "classification_report_bow = knn_bow['classification_report']\n",
        "print(accuracy_bow)\n",
        "print(classification_report_bow)"
      ],
      "metadata": {
        "colab": {
          "base_uri": "https://localhost:8080/"
        },
        "id": "3Vos9dosUo63",
        "outputId": "177a5084-e1aa-46c1-8f29-652a58acb644"
      },
      "execution_count": 31,
      "outputs": [
        {
          "output_type": "stream",
          "name": "stdout",
          "text": [
            "0.6784037558685446\n",
            "              precision    recall  f1-score   support\n",
            "\n",
            "           0       0.86      0.66      0.75       101\n",
            "           1       0.89      0.53      0.66        74\n",
            "           2       0.89      0.67      0.76        81\n",
            "           3       0.47      1.00      0.64       101\n",
            "           4       1.00      0.41      0.58        69\n",
            "\n",
            "    accuracy                           0.68       426\n",
            "   macro avg       0.82      0.65      0.68       426\n",
            "weighted avg       0.80      0.68      0.68       426\n",
            "\n"
          ]
        }
      ]
    },
    {
      "cell_type": "code",
      "source": [
        "knn_tfidf = train_evaluate_model(KNeighborsClassifier(), X_train_tfidf, X_test_tfidf, y_train_tfidf, y_test_tfidf)\n",
        "accuracy_tfidf = knn_tfidf['accuracy']\n",
        "classification_report_tfidf = knn_tfidf['classification_report']\n",
        "print(accuracy_tfidf)\n",
        "print(classification_report_tfidf)"
      ],
      "metadata": {
        "colab": {
          "base_uri": "https://localhost:8080/"
        },
        "id": "PsiI4ijNUrbf",
        "outputId": "d7a0adc7-8a56-45bf-84ee-cd376c9a4f9f"
      },
      "execution_count": 32,
      "outputs": [
        {
          "output_type": "stream",
          "name": "stdout",
          "text": [
            "0.9530516431924883\n",
            "              precision    recall  f1-score   support\n",
            "\n",
            "           0       0.95      0.94      0.95       101\n",
            "           1       0.96      0.91      0.93        74\n",
            "           2       0.92      0.98      0.95        81\n",
            "           3       0.99      0.99      0.99       101\n",
            "           4       0.94      0.94      0.94        69\n",
            "\n",
            "    accuracy                           0.95       426\n",
            "   macro avg       0.95      0.95      0.95       426\n",
            "weighted avg       0.95      0.95      0.95       426\n",
            "\n"
          ]
        }
      ]
    }
  ]
}